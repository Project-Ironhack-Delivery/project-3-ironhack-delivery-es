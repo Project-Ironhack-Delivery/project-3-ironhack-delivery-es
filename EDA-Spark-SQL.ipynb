{
 "cells": [
  {
   "cell_type": "code",
   "execution_count": 24,
   "id": "d4c54aed-af84-494e-aa4d-f818aae04776",
   "metadata": {},
   "outputs": [
    {
     "name": "stdout",
     "output_type": "stream",
     "text": [
      "3.5.1\n"
     ]
    }
   ],
   "source": [
    "import pyspark\n",
    "print(pyspark.__version__)"
   ]
  },
  {
   "cell_type": "code",
   "execution_count": 25,
   "id": "0bffcc4a-844b-4255-9c3c-3ad34e0bbcce",
   "metadata": {},
   "outputs": [],
   "source": [
    "from pyspark.sql import SparkSession\n",
    "from pyspark.sql. functions import col, when, avg, sum as spark_sum, count, expr"
   ]
  },
  {
   "cell_type": "code",
   "execution_count": 26,
   "id": "540bf536-9190-475f-a77a-a66f0d9ee647",
   "metadata": {},
   "outputs": [],
   "source": [
    "# Create Spark session\n",
    "\n",
    "spark = SparkSession.builder.appName(\"FakeOrdersEDA\").getOrCreate()"
   ]
  },
  {
   "cell_type": "code",
   "execution_count": 27,
   "id": "0e086291-3ea4-443c-b0a2-45295d3e4698",
   "metadata": {},
   "outputs": [],
   "source": [
    "# Load the data from a CSV\n",
    "\n",
    "df = spark.read.csv(\"project_dataset/python_raw_data/fake_orders_test_updated.csv/updated_dataset.csv\", header=True, inferSchema=True)"
   ]
  },
  {
   "cell_type": "code",
   "execution_count": 46,
   "id": "6a5faa01-de72-4000-8789-33f12af49261",
   "metadata": {},
   "outputs": [
    {
     "name": "stdout",
     "output_type": "stream",
     "text": [
      "+--------+---------------------+------------+-------------+---------------+--------------+--------+------------------+--------------------+--------------------+\n",
      "|order_id|activation_time_local|country_code|store_address|   final_status|payment_status|products|    products_total|purchase_total_price|   authorized_or_not|\n",
      "+--------+---------------------+------------+-------------+---------------+--------------+--------+------------------+--------------------+--------------------+\n",
      "|31503775|  2019-03-01 11:43:08|          ES|        15871|DeliveredStatus|          PAID|       1|              1.85|               14.02|    under_authorized|\n",
      "|31503965|  2019-03-01 11:43:08|          ES|        15871|DeliveredStatus|          PAID|       3|              6.15|               12.21|    under_authorized|\n",
      "|31636675|  2019-03-01 08:58:01|          AR|        61807|DeliveredStatus|          PAID|       4|1.1800000000000002|                9.76|    under_authorized|\n",
      "|31724509|  2019-03-01 16:43:04|          ES|        16228|DeliveredStatus|          PAID|       5|             11.07|               12.52|    under_authorized|\n",
      "|31839133|  2019-03-01 08:43:24|          BR|        20443|DeliveredStatus|          PAID|       1|              1.29|               11.19|    under_authorized|\n",
      "|31848304|  2019-03-01 07:33:01|          BR|        49346| CanceledStatus|          PAID|       8|              6.01|                 0.0|correctly_authorized|\n",
      "|31867130|  2019-03-01 10:03:11|          ES|        18683|DeliveredStatus|          PAID|       9|             17.72|               17.71|correctly_authorized|\n",
      "|31867210|  2019-03-01 12:03:07|          IT|        12347| CanceledStatus|          PAID|       2|              18.0|                 0.0|correctly_authorized|\n",
      "|31868928|  2019-03-01 10:03:07|          ES|        29445|DeliveredStatus|          PAID|      18|             24.65|               31.68|    under_authorized|\n",
      "|31876071|  2019-03-01 09:03:08|          ES|        16217| CanceledStatus|          PAID|       8|             12.87|               12.69|correctly_authorized|\n",
      "+--------+---------------------+------------+-------------+---------------+--------------+--------+------------------+--------------------+--------------------+\n",
      "only showing top 10 rows\n",
      "\n"
     ]
    }
   ],
   "source": [
    "# Show the first rows of the dataframe\n",
    "df.show(10)"
   ]
  },
  {
   "cell_type": "code",
   "execution_count": 29,
   "id": "6aa8cbc7-44d4-4301-aa4e-39e503db8717",
   "metadata": {},
   "outputs": [
    {
     "name": "stdout",
     "output_type": "stream",
     "text": [
      "root\n",
      " |-- order_id: integer (nullable = true)\n",
      " |-- activation_time_local: timestamp (nullable = true)\n",
      " |-- country_code: string (nullable = true)\n",
      " |-- store_address: integer (nullable = true)\n",
      " |-- final_status: string (nullable = true)\n",
      " |-- payment_status: string (nullable = true)\n",
      " |-- products: integer (nullable = true)\n",
      " |-- products_total: double (nullable = true)\n",
      " |-- purchase_total_price: double (nullable = true)\n",
      " |-- authorized_or_not: string (nullable = true)\n",
      "\n"
     ]
    }
   ],
   "source": [
    "df.printSchema()"
   ]
  },
  {
   "cell_type": "markdown",
   "id": "28a1a9f7-2336-488c-a27e-6520b611841c",
   "metadata": {},
   "source": [
    "You’ve been given a data set about orders coming from Fake partners in the app. Fake partners are the stores that are not integrated with IronHack Delivery directly so our content team manages their product catalog and prices for them. Fake partner orders are charged to the customer upon delivery and in many cases there is a mismatch between the total amount at checkout in the app (products_total) and what the courier pays at the store (purchase_total_price) causing many problems. When the products_total is lower than purchase_total_price we call them under-authorized orders, otherwise is a correctly authorized order. We want to move away from charge-on-delivery to an authorize-and-capture model but we first need to understand the price fluctuation of past orders to know the risk of doing so.\n",
    "\n",
    "Your task is to perform an EDA process (R/Python) with this data to answer the following questions:\n",
    "\n",
    "What percent of orders are under-authorized?\n",
    "\n",
    "What percent of orders would be correctly authorized with incremental authorization (+20%) on the amount at checkout?\n",
    "\n",
    "Are there differences when split by country?\n",
    "\n",
    "For the remainder of orders that would be outside of incremental authorization, what values would be necessary to capture the remaining amount?\n",
    "\n",
    "Which stores are the most problematic in terms of orders and monetary value?\n",
    "\n",
    "For under-authorized orders, is there a correlation between the difference in the prices and the cancellation of the order? In other words: Is an order more likely to be cancelled as the price difference increases?"
   ]
  },
  {
   "cell_type": "code",
   "execution_count": 30,
   "id": "94ebd51b-e63c-4a80-befd-f1965cc5b132",
   "metadata": {},
   "outputs": [],
   "source": [
    "# Register the DataFrame as a SQL temporary view\n",
    "df.createOrReplaceTempView(\"orders\")"
   ]
  },
  {
   "cell_type": "code",
   "execution_count": 31,
   "id": "d1a18d0d-c049-4a64-a95b-d5f2a5769fa1",
   "metadata": {},
   "outputs": [
    {
     "name": "stdout",
     "output_type": "stream",
     "text": [
      "+------------+-----------------------+---------------------------+\n",
      "|total_orders|under_authorized_orders|percentage_under_authorized|\n",
      "+------------+-----------------------+---------------------------+\n",
      "|       60400|                  34781|          57.58443708609271|\n",
      "+------------+-----------------------+---------------------------+\n",
      "\n"
     ]
    }
   ],
   "source": [
    "# What percent of orders are under-authorized?\n",
    "\n",
    "# SQL query to identify under-authorized orders\n",
    "query = \"\"\"\n",
    "SELECT \n",
    "    COUNT(*) AS total_orders,\n",
    "    SUM(CASE WHEN products_total < purchase_total_price THEN 1 ELSE 0 END) AS under_authorized_orders\n",
    "FROM orders\n",
    "\"\"\"\n",
    "\n",
    "# Execute the query\n",
    "result = spark.sql(query)\n",
    "\n",
    "# Calculate the percentage of under-authorized orders\n",
    "result = result.withColumn(\"percentage_under_authorized\", \n",
    "                           (result[\"under_authorized_orders\"] / result[\"total_orders\"]) * 100)\n",
    "\n",
    "# Show the result\n",
    "result.show()\n"
   ]
  },
  {
   "cell_type": "code",
   "execution_count": 32,
   "id": "dcad1fb8-b704-4906-b197-5f46a037c1cc",
   "metadata": {},
   "outputs": [
    {
     "name": "stdout",
     "output_type": "stream",
     "text": [
      "+-----------------------------------+\n",
      "|percent_authorized_when_incremented|\n",
      "+-----------------------------------+\n",
      "|                  69.03476821192054|\n",
      "+-----------------------------------+\n",
      "\n"
     ]
    }
   ],
   "source": [
    "# What percent of orders would be correctly authorized with incremental authorization (+20%) on the amount at checkout?\n",
    "\n",
    "query = \"\"\"\n",
    "SELECT\n",
    "  (SUM\n",
    "   (CASE\n",
    "      WHEN PRODUCTS_TOTAL * 1.2 >= purchase_total_price THEN 1\n",
    "      ELSE 0\n",
    "    END) * 100 / COUNT (*)\n",
    "    ) AS percent_authorized_when_incremented\n",
    "   FROM orders;\n",
    "\"\"\"\n",
    "\n",
    "# Execute the query\n",
    "result = spark.sql(query)\n",
    "\n",
    "# Show the result\n",
    "result.show()"
   ]
  },
  {
   "cell_type": "code",
   "execution_count": 34,
   "id": "8375765e-8632-463e-9ec0-b68eab72572f",
   "metadata": {},
   "outputs": [
    {
     "name": "stderr",
     "output_type": "stream",
     "text": [
      "[Stage 9:>                                                          (0 + 2) / 2]\r"
     ]
    },
    {
     "name": "stdout",
     "output_type": "stream",
     "text": [
      "+------------+-------------------------------------------+\n",
      "|country_code|percent_correctly_authorized_with_increment|\n",
      "+------------+-------------------------------------------+\n",
      "|          CI|                          66.66666666666667|\n",
      "|          UA|                          72.66326778344258|\n",
      "|          RO|                          72.17351176742040|\n",
      "|          PT|                          63.91639163916392|\n",
      "|          CL|                          12.95289855072464|\n",
      "|          BR|                          50.00000000000000|\n",
      "|          GT|                          79.71781305114638|\n",
      "|          ES|                          71.49773543651413|\n",
      "|          EC|                          62.59968102073365|\n",
      "|          TR|                          68.88783868935098|\n",
      "|          CR|                          79.85546522131888|\n",
      "|          FR|                          67.32209737827715|\n",
      "|          PA|                          66.92991115498519|\n",
      "|          IT|                          70.08547008547009|\n",
      "|          GE|                          68.31501831501832|\n",
      "|          PE|                          78.09822361546499|\n",
      "|          DO|                          62.00000000000000|\n",
      "|          EG|                          65.64551422319475|\n",
      "|          KE|                          73.40425531914894|\n",
      "|          MA|                          77.51225490196078|\n",
      "+------------+-------------------------------------------+\n",
      "only showing top 20 rows\n",
      "\n"
     ]
    },
    {
     "name": "stderr",
     "output_type": "stream",
     "text": [
      "                                                                                \r"
     ]
    }
   ],
   "source": [
    "# Are there differences when split by country?\n",
    "\n",
    "query = \"\"\"\n",
    "SELECT\n",
    "    country_code,\n",
    "    (SUM(CASE\n",
    "            WHEN (products_total * 1.20) >= purchase_total_price THEN 1\n",
    "            ELSE 0\n",
    "         END) * 100.0 / COUNT(*)) AS percent_correctly_authorized_with_increment\n",
    "FROM\n",
    "    orders\n",
    "GROUP BY\n",
    "    country_code;\n",
    "\"\"\"\n",
    "\n",
    "# Execute the query\n",
    "result = spark.sql(query)\n",
    "\n",
    "# Show the result\n",
    "result.show()"
   ]
  },
  {
   "cell_type": "code",
   "execution_count": 37,
   "id": "97c550f5-0be8-4da4-91ed-1c2ced061e22",
   "metadata": {},
   "outputs": [
    {
     "name": "stdout",
     "output_type": "stream",
     "text": [
      "+---------------------------------------+\n",
      "|percent_NOT_authorized_when_incremented|\n",
      "+---------------------------------------+\n",
      "|                      30.96523178807947|\n",
      "+---------------------------------------+\n",
      "\n"
     ]
    }
   ],
   "source": [
    "# For the remainder of orders that would be outside of incremental authorization, what values would be necessary to capture the remaining amount?\n",
    "\n",
    "# Part 1\n",
    "\n",
    "query = \"\"\"\n",
    "SELECT\n",
    "(SUM(\n",
    "   CASE\n",
    "      WHEN (PRODUCTS_TOTAL * 1.2) < purchase_total_price THEN 1\n",
    "      ELSE 0\n",
    "    END) * 100 / COUNT (*)) AS percent_NOT_authorized_when_incremented\n",
    "   FROM orders;\n",
    "\"\"\"\n",
    "\n",
    "# Execute the query\n",
    "result = spark.sql(query)\n",
    "\n",
    "# Show the result\n",
    "result.show()"
   ]
  },
  {
   "cell_type": "code",
   "execution_count": 38,
   "id": "b01ac68d-ff65-4367-8e66-f971fdf5d7b7",
   "metadata": {},
   "outputs": [
    {
     "name": "stdout",
     "output_type": "stream",
     "text": [
      "+--------+------------------+--------------------+-------------------+\n",
      "|order_id|    products_total|purchase_total_price|additional_required|\n",
      "+--------+------------------+--------------------+-------------------+\n",
      "|31503775|              1.85|               14.02| 11.799999999999999|\n",
      "|31503965|              6.15|               12.21|  4.830000000000001|\n",
      "|31636675|1.1800000000000002|                9.76|              8.344|\n",
      "|31839133|              1.29|               11.19|              9.642|\n",
      "|31868928|             24.65|               31.68| 2.1000000000000014|\n",
      "|31890972|               6.8|                21.8|              13.64|\n",
      "|31908582|              8.07|               14.88| 5.1960000000000015|\n",
      "|31934292|              3.86|               24.27| 19.637999999999998|\n",
      "|31949773|              6.21|               11.46|  4.008000000000001|\n",
      "|31950805|             15.27|               18.78|0.45600000000000307|\n",
      "|31965637|              3.44|   6.890000000000001| 2.7620000000000005|\n",
      "|31968802|              2.46|                5.25|              2.298|\n",
      "|31969123|               5.2|                 8.6| 2.3599999999999994|\n",
      "|31969645|              3.28|                6.56|              2.624|\n",
      "|31972576|              1.95|                3.44|                1.1|\n",
      "|31973515|              6.15|               22.14| 14.760000000000002|\n",
      "|31973768|              9.26|               13.53| 2.4179999999999993|\n",
      "|31977305|3.5700000000000003|                5.63|              1.346|\n",
      "|31977781|             10.12|               15.64|  3.496000000000002|\n",
      "|32002620|1.7899999999999998|                5.36| 3.2120000000000006|\n",
      "+--------+------------------+--------------------+-------------------+\n",
      "only showing top 20 rows\n",
      "\n"
     ]
    }
   ],
   "source": [
    "# Part 2\n",
    "\n",
    "query = \"\"\"\n",
    "SELECT\n",
    "  order_id, products_total, purchase_total_price, (purchase_total_price - products_total * 1.2) AS additional_required\n",
    "  FROM orders\n",
    "  WHERE (products_total * 1.2) < purchase_total_price;\n",
    "\"\"\"\n",
    "\n",
    "result = spark.sql(query)\n",
    "result.show()"
   ]
  },
  {
   "cell_type": "code",
   "execution_count": 41,
   "id": "6fa6c809-8ccc-481d-9d7e-e0aa972288c6",
   "metadata": {},
   "outputs": [
    {
     "name": "stdout",
     "output_type": "stream",
     "text": [
      "+-------------+----------------------------+\n",
      "|store_address|number_of_problematic_orders|\n",
      "+-------------+----------------------------+\n",
      "|        28671|                         448|\n",
      "|        28712|                         217|\n",
      "|        28286|                         204|\n",
      "|        14455|                         179|\n",
      "|        11694|                         160|\n",
      "|        28669|                         158|\n",
      "|        12513|                         126|\n",
      "|        55206|                         120|\n",
      "|        27635|                         116|\n",
      "|        62935|                         111|\n",
      "+-------------+----------------------------+\n",
      "only showing top 10 rows\n",
      "\n"
     ]
    }
   ],
   "source": [
    "# Which stores are the most problematic in terms of orders and monetary value?\n",
    "\n",
    "# By number of orders\n",
    "\n",
    "query = \"\"\"\n",
    "SELECT store_address, COUNT (*) as number_of_problematic_orders\n",
    "FROM orders\n",
    "WHERE products_total < purchase_total_price\n",
    "GROUP BY store_address\n",
    "ORDER BY number_of_problematic_orders DESC;\n",
    "\"\"\"\n",
    "\n",
    "result = spark.sql(query)\n",
    "result.show(10)"
   ]
  },
  {
   "cell_type": "code",
   "execution_count": 43,
   "id": "fe968112-bd7c-44e5-958b-47efbcd34954",
   "metadata": {},
   "outputs": [
    {
     "name": "stdout",
     "output_type": "stream",
     "text": [
      "+-------------+------------------+\n",
      "|store_address| total_discrepancy|\n",
      "+-------------+------------------+\n",
      "|        10264|           1781.13|\n",
      "|        28669|1185.6999999999998|\n",
      "|        65896|           1011.47|\n",
      "|         9855|            907.03|\n",
      "|        14455| 791.4099999999999|\n",
      "|        28671|             775.8|\n",
      "|         9854|            752.74|\n",
      "|        17327|            737.33|\n",
      "|        10358|            666.04|\n",
      "|        65898| 651.6299999999999|\n",
      "+-------------+------------------+\n",
      "only showing top 10 rows\n",
      "\n"
     ]
    }
   ],
   "source": [
    "# By monetary value\n",
    "\n",
    "query = \"\"\"\n",
    "SELECT store_address, SUM (purchase_total_price - products_total) as total_discrepancy\n",
    "FROM orders\n",
    "WHERE products_total < purchase_total_price\n",
    "GROUP BY store_address\n",
    "ORDER BY total_discrepancy DESC;\n",
    "\"\"\"\n",
    "\n",
    "result = spark.sql(query)\n",
    "result.show(10)"
   ]
  },
  {
   "cell_type": "code",
   "execution_count": 51,
   "id": "6e4a6acb-d673-46ca-9dcd-1c378148e569",
   "metadata": {},
   "outputs": [
    {
     "name": "stdout",
     "output_type": "stream",
     "text": [
      "+--------+-------------------+------------+\n",
      "|order_id|   price_difference|is_cancelled|\n",
      "+--------+-------------------+------------+\n",
      "|31503775|              12.17|           0|\n",
      "|31503965| 6.0600000000000005|           0|\n",
      "|31636675|               8.58|           0|\n",
      "|31724509| 1.4499999999999993|           0|\n",
      "|31839133|  9.899999999999999|           0|\n",
      "|31868928|  7.030000000000001|           0|\n",
      "|31890972|               15.0|           0|\n",
      "|31908582| 6.8100000000000005|           0|\n",
      "|31934292|              20.41|           0|\n",
      "|31936061|0.21999999999999886|           0|\n",
      "|31949773|  5.250000000000001|           0|\n",
      "|31950653| 2.6199999999999974|           0|\n",
      "|31950805| 3.5100000000000016|           0|\n",
      "|31960607|0.16000000000000014|           0|\n",
      "|31965637| 3.4500000000000006|           0|\n",
      "|31966752|0.34999999999999964|           0|\n",
      "|31968802|               2.79|           0|\n",
      "|31969123| 3.3999999999999995|           0|\n",
      "|31969645|               3.28|           0|\n",
      "|31970513|0.48999999999999977|           0|\n",
      "+--------+-------------------+------------+\n",
      "only showing top 20 rows\n",
      "\n"
     ]
    }
   ],
   "source": [
    "# For under-authorized orders, is there a correlation between the difference in the prices and the cancellation of the order?\n",
    "# In other words: Is an order more likely to be cancelled as the price difference increases?\n",
    "\n",
    "# Part 1\n",
    "\n",
    "query = \"\"\"\n",
    "SELECT order_id, purchase_total_price - products_total AS price_difference,\n",
    "CASE\n",
    "  WHEN final_status = 'CanceledStatus' THEN 1\n",
    "  ELSE 0\n",
    "END AS is_cancelled\n",
    "FROM orders\n",
    "WHERE products_total < purchase_total_price;\n",
    "\"\"\"\n",
    "\n",
    "result = spark.sql(query)\n",
    "result.show()"
   ]
  },
  {
   "cell_type": "code",
   "execution_count": null,
   "id": "51b04e3f-76e1-4d73-9456-a0ca11560eaf",
   "metadata": {},
   "outputs": [],
   "source": []
  },
  {
   "cell_type": "code",
   "execution_count": null,
   "id": "1e7b8dd2-19b2-420a-97a9-5cd18429ec47",
   "metadata": {},
   "outputs": [],
   "source": []
  },
  {
   "cell_type": "code",
   "execution_count": null,
   "id": "47d4ddff-66fe-443d-bccf-8548d23078d3",
   "metadata": {},
   "outputs": [],
   "source": [
    "# Stop the Spark session\n",
    "spark.stop()"
   ]
  }
 ],
 "metadata": {
  "kernelspec": {
   "display_name": "Python 3 (ipykernel)",
   "language": "python",
   "name": "python3"
  },
  "language_info": {
   "codemirror_mode": {
    "name": "ipython",
    "version": 3
   },
   "file_extension": ".py",
   "mimetype": "text/x-python",
   "name": "python",
   "nbconvert_exporter": "python",
   "pygments_lexer": "ipython3",
   "version": "3.9.6"
  }
 },
 "nbformat": 4,
 "nbformat_minor": 5
}

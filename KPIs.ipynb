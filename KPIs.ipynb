{
  "cells": [
    {
      "cell_type": "markdown",
      "metadata": {
        "id": "G2w0FgXwghLu"
      },
      "source": [
        "## 1. KPIs (25 points)\n",
        "\n",
        "In your opinion, what are the three main KPIs for IronHack Delivery? Ranked by decreasing importance. Explain your choice and try to make an educated guess of their value. Provide a step-by-step explanation of your guess. How would you improve them? Note: Ignore pure financial KPIs that apply to every business.\n",
        "\n",
        "\n",
        "# The 3 main KPIs for Ironhack Delivery are:\n",
        "\n",
        "\n",
        "# On-Time Delivery Rate\n",
        "\n",
        "This is an essential metric for any delivery service, being the main indicator of the reliability of the service. It has the biggest effect on customer satisfaction (this being another important KPI), and whether or not customers will use and recommend the service.\n",
        "\n",
        "The industry standard KPI for on-time deliveries ranges from 90% to 95% and Ironhack Delivery should aim for somewhere in this range.\n",
        "\n",
        "On-time delivery rates could be improved by increasing the number of couriers, optimisation of routes, and improved communication with customers.\n",
        "\n",
        "Closely related to this KPI is the average time per delivery.\n",
        "\n",
        "\n",
        "# Number of Deliveries\n",
        "\n",
        "This is an important KPI for understanding the scale of the business, its growth, capacity, and demand for the service. It refers to the number of deliveries over a specific period (e.g. daily, monthly).\n",
        "\n",
        "The number of deliveries really depends on the size of the business and its market, as well as other factors, but for Ironhack Delivery we could say 100 deliveries per day is a reasonable estimate.\n",
        "\n",
        "Ironhack Delivery could improve this figure by expanding into new markets such as different countries or cities, improving its marketing campaigns in its current locations, and by increasing courier numbers and optimising routes as previously mentioned.\n",
        "\n",
        "# Customer Satisfaction\n",
        "\n",
        "This KPI is directly affected by other KPIs such as On-Time Delivery Rate and Order Accuracy Rate, and in turn can positively or negatively influence KPIs such as the Number of Deliveries, and the Customer Retention Rate.\n",
        "\n",
        "Customer satisfaction scores in the delivery industry are usually around 80% to 85%.\n",
        "\n",
        "This figure could be improved by focusing on On-Time Delivery Rate, Delivery Accuracy and Customer Communication including the speed of response to customer queries.\n"
      ]
    }
  ],
  "metadata": {
    "colab": {
      "provenance": []
    },
    "kernelspec": {
      "display_name": "Python 3",
      "name": "python3"
    },
    "language_info": {
      "name": "python"
    }
  },
  "nbformat": 4,
  "nbformat_minor": 0
}

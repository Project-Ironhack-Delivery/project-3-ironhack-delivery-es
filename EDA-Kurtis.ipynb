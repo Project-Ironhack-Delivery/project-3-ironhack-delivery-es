{
 "cells": [
  {
   "cell_type": "code",
   "execution_count": 1,
   "id": "d4c54aed-af84-494e-aa4d-f818aae04776",
   "metadata": {},
   "outputs": [
    {
     "name": "stdout",
     "output_type": "stream",
     "text": [
      "3.5.1\n"
     ]
    }
   ],
   "source": [
    "import pyspark\n",
    "print(pyspark.__version__)"
   ]
  },
  {
   "cell_type": "code",
   "execution_count": 2,
   "id": "0bffcc4a-844b-4255-9c3c-3ad34e0bbcce",
   "metadata": {},
   "outputs": [],
   "source": [
    "from pyspark.sql import SparkSession\n",
    "from pyspark.sql. functions import col, when, avg, sum as spark_sum, count, expr"
   ]
  },
  {
   "cell_type": "code",
   "execution_count": 3,
   "id": "540bf536-9190-475f-a77a-a66f0d9ee647",
   "metadata": {},
   "outputs": [
    {
     "name": "stderr",
     "output_type": "stream",
     "text": [
      "Setting default log level to \"WARN\".\n",
      "To adjust logging level use sc.setLogLevel(newLevel). For SparkR, use setLogLevel(newLevel).\n",
      "24/06/27 22:14:58 WARN NativeCodeLoader: Unable to load native-hadoop library for your platform... using builtin-java classes where applicable\n"
     ]
    }
   ],
   "source": [
    "# Create Spark session\n",
    "\n",
    "spark = SparkSession.builder.appName(\"FakeOrdersEDA\").getOrCreate()"
   ]
  },
  {
   "cell_type": "code",
   "execution_count": 12,
   "id": "0e086291-3ea4-443c-b0a2-45295d3e4698",
   "metadata": {},
   "outputs": [
    {
     "name": "stderr",
     "output_type": "stream",
     "text": [
      "                                                                                \r"
     ]
    }
   ],
   "source": [
    "# Load the data from a CSV\n",
    "\n",
    "fake_orders_test = spark.read.csv(\"project_dataset/python_raw_data/fake_orders_test_updated.csv/updated_dataset.csv\", header=True, inferSchema=True)"
   ]
  },
  {
   "cell_type": "code",
   "execution_count": 14,
   "id": "6a5faa01-de72-4000-8789-33f12af49261",
   "metadata": {},
   "outputs": [
    {
     "name": "stdout",
     "output_type": "stream",
     "text": [
      "+--------+---------------------+------------+-------------+---------------+--------------+--------+------------------+--------------------+-----------------+\n",
      "|order_id|activation_time_local|country_code|store_address|   final_status|payment_status|products|    products_total|purchase_total_price|authorized_or_not|\n",
      "+--------+---------------------+------------+-------------+---------------+--------------+--------+------------------+--------------------+-----------------+\n",
      "|31503775|  2019-03-01 11:43:08|          ES|        15871|DeliveredStatus|          PAID|       1|              1.85|               14.02| under_authorized|\n",
      "|31503965|  2019-03-01 11:43:08|          ES|        15871|DeliveredStatus|          PAID|       3|              6.15|               12.21| under_authorized|\n",
      "|31636675|  2019-03-01 08:58:01|          AR|        61807|DeliveredStatus|          PAID|       4|1.1800000000000002|                9.76| under_authorized|\n",
      "|31724509|  2019-03-01 16:43:04|          ES|        16228|DeliveredStatus|          PAID|       5|             11.07|               12.52| under_authorized|\n",
      "|31839133|  2019-03-01 08:43:24|          BR|        20443|DeliveredStatus|          PAID|       1|              1.29|               11.19| under_authorized|\n",
      "+--------+---------------------+------------+-------------+---------------+--------------+--------+------------------+--------------------+-----------------+\n",
      "only showing top 5 rows\n",
      "\n"
     ]
    }
   ],
   "source": [
    "# Show the first rows of the dataframe\n",
    "fake_orders_test.show(5)"
   ]
  },
  {
   "cell_type": "code",
   "execution_count": 11,
   "id": "6aa8cbc7-44d4-4301-aa4e-39e503db8717",
   "metadata": {},
   "outputs": [
    {
     "name": "stdout",
     "output_type": "stream",
     "text": [
      "root\n",
      " |-- order_id: integer (nullable = true)\n",
      " |-- activation_time_local: timestamp (nullable = true)\n",
      " |-- country_code: string (nullable = true)\n",
      " |-- store_address: integer (nullable = true)\n",
      " |-- final_status: string (nullable = true)\n",
      " |-- payment_status: string (nullable = true)\n",
      " |-- products: integer (nullable = true)\n",
      " |-- products_total: double (nullable = true)\n",
      " |-- purchase_total_price: double (nullable = true)\n",
      " |-- authorized_or_not: string (nullable = true)\n",
      "\n"
     ]
    }
   ],
   "source": [
    "fake_orders_test.printSchema()"
   ]
  },
  {
   "cell_type": "code",
   "execution_count": null,
   "id": "0a025be8-2251-49ae-8e74-6739f6eb9762",
   "metadata": {},
   "outputs": [],
   "source": []
  }
 ],
 "metadata": {
  "kernelspec": {
   "display_name": "Python 3 (ipykernel)",
   "language": "python",
   "name": "python3"
  },
  "language_info": {
   "codemirror_mode": {
    "name": "ipython",
    "version": 3
   },
   "file_extension": ".py",
   "mimetype": "text/x-python",
   "name": "python",
   "nbconvert_exporter": "python",
   "pygments_lexer": "ipython3",
   "version": "3.9.6"
  }
 },
 "nbformat": 4,
 "nbformat_minor": 5
}
